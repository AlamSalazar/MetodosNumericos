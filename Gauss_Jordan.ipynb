{
  "nbformat": 4,
  "nbformat_minor": 0,
  "metadata": {
    "colab": {
      "name": "GaussJordan.ipynb",
      "provenance": [],
      "collapsed_sections": [],
      "authorship_tag": "ABX9TyP6OtvMAc2GY79jyMPlhbey",
      "include_colab_link": true
    },
    "kernelspec": {
      "name": "python3",
      "display_name": "Python 3"
    }
  },
  "cells": [
    {
      "cell_type": "markdown",
      "metadata": {
        "id": "view-in-github",
        "colab_type": "text"
      },
      "source": [
        "<a href=\"https://colab.research.google.com/github/AlamSalazar/MetodosNumericos/blob/main/GaussJordan.ipynb\" target=\"_parent\"><img src=\"https://colab.research.google.com/assets/colab-badge.svg\" alt=\"Open In Colab\"/></a>"
      ]
    },
    {
      "cell_type": "markdown",
      "metadata": {
        "id": "HUeItNBdVATK"
      },
      "source": [
        "#Programa Gauss-Jordan\n"
      ]
    },
    {
      "cell_type": "code",
      "metadata": {
        "id": "2lKVR5a0Bs3-",
        "outputId": "09e11839-8de4-4511-ccf6-572e2ed6f7d2",
        "colab": {
          "base_uri": "https://localhost:8080/"
        }
      },
      "source": [
        "matriz = []\n",
        "copiaMatriz = []\n",
        "res = []\n",
        "mOrig = []\n",
        "def mat(n):\n",
        "  for i in range(n):\n",
        "    matriz.append([])\n",
        "    for j in range(n):\n",
        "      matriz[i].append(0)\n",
        "  return matriz\n",
        "\n",
        "\n",
        "def copyMat(n):\n",
        "  for k in range(n):\n",
        "    copiaMatriz.append([])\n",
        "    for l in range(n+1):\n",
        "      copiaMatriz[k].append(0)\n",
        "  return copiaMatriz\n",
        "\n",
        "\n",
        "def entrada(n):\n",
        "  matriz = mat(n)\n",
        "  mOrig = copyMat(n)\n",
        "\n",
        "  for x in range(n):\n",
        "    for y in range(n):\n",
        "      f=float(input(\"Inrese el valor [\" + str(y+1) + \"] de la ecuación [\" +  str(x+1) + \"] : \"))\n",
        "      matriz[x][y] = f\n",
        "      mOrig[x][y] = f\n",
        "    res.append(float(input(\"Ingrese el resultado de la ecuación [\" + str(x+1) + \"] es: \")))\n",
        "    mOrig[x][y+1] = res[x]\n",
        "\n",
        "  print(\"\\nMatriz original:\")\n",
        "  for i in range(n):\n",
        "    print(matriz[i][:])\n",
        "  print(\"\\nMatriz aumentada:\")\n",
        "  for i in range(n):\n",
        "    print(mOrig[i][:])\n",
        "\n",
        "\n",
        "def gauss(n):\n",
        "  for z in range(n - 1):\n",
        "    for x in range(1, n - z):\n",
        "      if (matriz[z][z] != 0):\n",
        "        p = matriz[x + z][z] / matriz[z][z]\n",
        "        for y in range(n):\n",
        "          matriz[x + z][y] = matriz[x + z][y] - (matriz[z][y] * p)\n",
        "        res[x + z] = res[x + z] - (res[z] * p)\n",
        "\n",
        "\n",
        "def gaussJordan(n):\n",
        "  for z in range(n - 1, 0, -1):\n",
        "    for x in range(z):\n",
        "      if (matriz[z][z] != 0):\n",
        "        p = matriz[x][z] / matriz[z][z]\n",
        "        matriz[x][z] = matriz[x][z] - (matriz[z][z] * p)\n",
        "        res[x] = res[x] - (res[z] * p)\n",
        "\n",
        "\n",
        "def solucion(n):\n",
        "  print(\"\\n\")\n",
        "  for i in range(n):\n",
        "    if (matriz[i][i] != 0):\n",
        "      ms = True\n",
        "    else:\n",
        "      ms = False\n",
        "      break\n",
        "  if (ms == True):\n",
        "    for i in range(n):\n",
        "      print(\"El valor de x\" + str(i) + \" es = \" + str(res[i] / matriz[i][i]))\n",
        "\n",
        "  else:\n",
        "      print(\"La matriz no tiene solucion\")\n",
        "\n",
        "\n",
        "def determinante(n):\n",
        "  deter = 1\n",
        "  for x in range(n):\n",
        "    deter = matriz[x][x] * deter\n",
        "  print(\"\\nEl determinante de la matriz es = \", deter)\n",
        "\n",
        "\n",
        "def finalmente(n):\n",
        "  print(\"\\nMatriz resultante:\")\n",
        "  for i in range(n):\n",
        "    print(matriz[i][:])\n",
        "  print(res)\n",
        "\n",
        "\n",
        "n = int(input(\"Tamano de la matriz : \"))\n",
        "entrada(n)\n",
        "gauss(n)\n",
        "gaussJordan(n)\n",
        "solucion(n)\n",
        "determinante(n)\n",
        "finalmente(n)"
      ],
      "execution_count": 3,
      "outputs": [
        {
          "output_type": "stream",
          "text": [
            "Tamano de la matriz : 2\n",
            "Inrese el valor [1] de la ecuación [1] : 1\n",
            "Inrese el valor [2] de la ecuación [1] : 2\n",
            "Ingrese el resultado de la ecuación [1] es: 3\n",
            "Inrese el valor [1] de la ecuación [2] : 4\n",
            "Inrese el valor [2] de la ecuación [2] : 5\n",
            "Ingrese el resultado de la ecuación [2] es: 6\n",
            "\n",
            "Matriz original:\n",
            "[1.0, 2.0]\n",
            "[4.0, 5.0]\n",
            "\n",
            "Matriz aumentada:\n",
            "[1.0, 2.0, 3.0]\n",
            "[4.0, 5.0, 6.0]\n",
            "\n",
            "\n",
            "El valor de x0 es = -1.0\n",
            "El valor de x1 es = 2.0\n",
            "\n",
            "El determinante de la matriz es =  -3.0\n",
            "\n",
            "Matriz resultante:\n",
            "[1.0, 0.0]\n",
            "[0.0, -3.0]\n",
            "[-1.0, -6.0]\n"
          ],
          "name": "stdout"
        }
      ]
    },
    {
      "cell_type": "code",
      "metadata": {
        "id": "nJ9tF59-hdK5"
      },
      "source": [
        ""
      ],
      "execution_count": null,
      "outputs": []
    }
  ]
}
