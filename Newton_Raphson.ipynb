{
  "nbformat": 4,
  "nbformat_minor": 0,
  "metadata": {
    "colab": {
      "name": "Newton-Raphson.ipynb",
      "provenance": [],
      "collapsed_sections": [
        "5asQJ9A8evF0"
      ],
      "authorship_tag": "ABX9TyPD3mLtMLRANka3WMRzBJ16",
      "include_colab_link": true
    },
    "kernelspec": {
      "name": "python3",
      "display_name": "Python 3"
    }
  },
  "cells": [
    {
      "cell_type": "markdown",
      "metadata": {
        "id": "view-in-github",
        "colab_type": "text"
      },
      "source": [
        "<a href=\"https://colab.research.google.com/github/AlamSalazar/MetodosNumericos/blob/main/Newton_Raphson.ipynb\" target=\"_parent\"><img src=\"https://colab.research.google.com/assets/colab-badge.svg\" alt=\"Open In Colab\"/></a>"
      ]
    },
    {
      "cell_type": "markdown",
      "metadata": {
        "id": "5asQJ9A8evF0"
      },
      "source": [
        "#Ejecutar primero\n",
        "\n",
        "Debido a que este entorno de ejecución es ejecutado en una maquina virtual, es necesario instalar el siguiente paquete cada vez que se abra y se cierre, por ello se debe ejecutar esta linea de comandos antes de poder ejecutar el programa principal."
      ]
    },
    {
      "cell_type": "code",
      "metadata": {
        "id": "fFEhpOdKer1O"
      },
      "source": [
        "pip install -U sympy"
      ],
      "execution_count": null,
      "outputs": []
    },
    {
      "cell_type": "markdown",
      "metadata": {
        "id": "FPj0SPfXfP5l"
      },
      "source": [
        "#Programa Newton-Raphson\n",
        "Puede copiar y pegar cualquiera de estás ecuaciones al elegir la opción 5 :\n",
        "```\n",
        "-2*x**4 + 6*x**3 - 12*x + 3 \n",
        "3*x + 5*sin(x - 2)\n",
        "5*x + 6*log(x + 3)\n",
        "x**3 + 4*x**2 + 12*x - 3\n",
        "```\n",
        "Aunque ya están en las opciones 1 , 2 , 3 y 4 respectivamente\n"
      ]
    },
    {
      "cell_type": "code",
      "metadata": {
        "id": "FZfch0bXefxz",
        "outputId": "004a2d9a-7302-46fe-c293-090ccb109712",
        "colab": {
          "base_uri": "https://localhost:8080/"
        }
      },
      "source": [
        "from sympy import *\n",
        "import math\n",
        "from decimal import Decimal\n",
        " \n",
        "x = symbols('x')\n",
        "deriv=\"diff(function,x)\"\n",
        " \n",
        "def evaluar(g,val):\n",
        "  return eval(\"(\"+g+\").subs(x,\"+str(val)+\")\")\n",
        "z=1\n",
        "while (z==1):\n",
        "  print(\"Calcular las raices de:\\n[1]   -2x⁴ + 6x³ - 12x + 3\\n[2]   3x + 5sin(x - 2)\\n[3]   5x +6log(x + 3)\\n[4]   x³ + 4x² + 12x - 3 \\n[5]   -Libre-\")\n",
        "  r=int(input())\n",
        "  z+=1\n",
        " \n",
        "  if (r < 1  or  r > 5):\n",
        "    print(\"-----------------------------\")\n",
        "    print(\"[\",r,\"]   No es una opción válida\", sep=\"\")\n",
        "    print(\"-----------------------------\")\n",
        "    z=1\n",
        "  else:\n",
        "    print(\"------------------------------------\")\n",
        "    if (r==1):\n",
        "      f=(\"-2*x**4 + 6*x**3 - 12*x + 3\")\n",
        " \n",
        "    if (r==2):\n",
        "      f=(\"3*x + 5*sin(x-2)\")\n",
        " \n",
        "    if (r==3):\n",
        "      f=(\"5*x +6*log(x+3)\")\n",
        " \n",
        "    if (r==4):\n",
        "      f=(\"x**3 + 4*x**2 + 12*x - 3\")\n",
        " \n",
        "    if (r==5):\n",
        "      print(\"Utilice x como variable independiente\") \n",
        "      print(\"exprese el producto con *\") \n",
        "      print(\"Para elevar a una potencia use doble asterisco, por ejemplo x**3\") \n",
        "      print(\"Funciones trigonometricas sin(x), cos(x)\")\n",
        "      print(\"------------------------------------\")\n",
        "      f=input(\"Ingrese función:  \")\n",
        " \n",
        "print(\"Función: \")\n",
        "dfdx=str(eval(deriv.replace(\"function\",f)))\n",
        " \n",
        " \n",
        "print(\"f(x) =\",f)\n",
        "print(\"df(x)/dx =\",dfdx)\n",
        " \n",
        "delta=1e-10\n",
        "xi=int(input(\"Ingrese un valor inicial para x:  \"))\n",
        " \n",
        "fi=1\n",
        " \n",
        "while abs(fi) > delta :\n",
        "  fi=float(evaluar(f,xi))\n",
        "  dfxi=float(evaluar(dfdx,xi))\n",
        "  print(\"f(\",Decimal(xi),\")=\",Decimal(fi))\n",
        "  xip = xi - fi/dfxi\n",
        "  xi=xip\n",
        "print(\"\\n------------------------------------------\")\n",
        "print(\"f(x) =\",f,\" tiene raiz en x=\",Decimal(xi))\n",
        "xi=0\n",
        "xi=float(evaluar(f,xi))\n",
        "print(\"\\n------------------------------------------\")\n",
        "print(\"Cuando f(0) =\",Decimal(xi))"
      ],
      "execution_count": null,
      "outputs": [
        {
          "output_type": "stream",
          "text": [
            "Calcular las raices de:\n",
            "[1]   -2x⁴ + 6x³ - 12x + 3\n",
            "[2]   3x + 5sin(x - 2)\n",
            "[3]   5x +6log(x + 3)\n",
            "[4]   x³ + 4x² + 12x - 3 \n",
            "[5]   -Libre-\n",
            "1\n",
            "------------------------------------\n",
            "Función: \n",
            "f(x) = -2*x**4 + 6*x**3 - 12*x + 3\n",
            "df(x)/dx = -8*x**3 + 18*x**2 - 12\n",
            "Ingrese un valor inicial para x:  3\n",
            "f( 3 )= -33\n",
            "f( 2.5 )= -11.375\n",
            "f( 2.03571428571428558740308289998210966587066650390625 )= -5.15862205851727395611305837519466876983642578125\n",
            "f( 0.9820252185286852952827985063777305185794830322265625 )= -4.96210047417776412004286612500436604022979736328125\n",
            "f( -1.2555848225294490294601246205274946987628936767578125 )= 1.219829998162037298925497452728450298309326171875\n",
            "f( -1.2934533394787381954671445782878436148166656494140625 )= -0.0604138808199206067683917353861033916473388671875\n",
            "f( -1.2917479943491778637820743824704550206661224365234375 )= -0.0001260139812444549534120596945285797119140625\n",
            "f( -1.291744422367440581211894823354668915271759033203125 )= -5.521396673202616511844098567962646484375E-10\n",
            "f( -1.29174442235178954518914906657300889492034912109375 )= -5.3290705182007513940334320068359375E-15\n",
            "\n",
            "------------------------------------------\n",
            "f(x) = -2*x**4 + 6*x**3 - 12*x + 3  tiene raiz en x= -1.2917444223517893231445441415417008101940155029296875\n",
            "\n",
            "------------------------------------------\n",
            "Cuando f(0) = 3\n"
          ],
          "name": "stdout"
        }
      ]
    },
    {
      "cell_type": "code",
      "metadata": {
        "id": "H0Z_cdqZld5i"
      },
      "source": [
        ""
      ],
      "execution_count": null,
      "outputs": []
    }
  ]
}